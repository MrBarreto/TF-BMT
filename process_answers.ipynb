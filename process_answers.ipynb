{
 "cells": [
  {
   "cell_type": "code",
   "execution_count": 83,
   "metadata": {},
   "outputs": [],
   "source": [
    "import pandas as pd\n",
    "from scipy.stats import mode"
   ]
  },
  {
   "cell_type": "markdown",
   "metadata": {},
   "source": [
    "# Clean Answer"
   ]
  },
  {
   "cell_type": "code",
   "execution_count": 84,
   "metadata": {},
   "outputs": [],
   "source": [
    "# Load the data\n",
    "data = pd.read_csv('tweets_filtered.csv')\n",
    "data = data.iloc[0:5000, :]\n",
    "data.to_csv('tweets_filtered_top_5000.csv', index=False)"
   ]
  },
  {
   "cell_type": "markdown",
   "metadata": {},
   "source": [
    "#### Gpt Informado"
   ]
  },
  {
   "cell_type": "code",
   "execution_count": 85,
   "metadata": {},
   "outputs": [],
   "source": [
    "folder = 'raw_answers/'\n",
    "file = 'gpt/gpt_informado.csv'\n",
    "\n",
    "df = pd.read_csv(folder + file)\n",
    "\n",
    "# Get only int ids\n",
    "df = df[df['ID'].apply(lambda x: x.isnumeric())]\n",
    "\n",
    "# Get first answer from each ID\n",
    "df = df.groupby('ID').first().reset_index()\n",
    "\n",
    "\n",
    "df['ID'] = df['ID'].astype(int)\n",
    "\n",
    "df = df.sort_values('ID').reset_index(drop=True)\n",
    "\n",
    "df['Sports Betting'] = df['Sports Betting'].apply(lambda x: 1 if 'yes' in x else 0)\n",
    "\n",
    "df = df.rename(columns={'Sports Betting': 'gpt_informado'})\n",
    "\n",
    "\n",
    "df.to_csv('clean_answers/gpt/gpt_informado.csv', index=False)"
   ]
  },
  {
   "cell_type": "markdown",
   "metadata": {},
   "source": [
    "#### Gpt Não-Informado"
   ]
  },
  {
   "cell_type": "code",
   "execution_count": 111,
   "metadata": {},
   "outputs": [],
   "source": [
    "folder = 'raw_answers/'\n",
    "file = 'gpt/gpt_nao_informado.csv'\n",
    "\n",
    "df = pd.read_csv(folder + file)\n",
    "\n",
    "df['ID'] = df['ID'].astype(str)\n",
    "\n",
    "# Get only int ids\n",
    "df = df[df['ID'].apply(lambda x: x.isnumeric())]\n",
    "\n",
    "df['Mentions Sports Betting'] = df['Mentions Sports Betting'].apply(lambda x: 1 if 'yes' in x else 0)\n"
   ]
  },
  {
   "cell_type": "code",
   "execution_count": 112,
   "metadata": {},
   "outputs": [
    {
     "data": {
      "text/html": [
       "<div>\n",
       "<style scoped>\n",
       "    .dataframe tbody tr th:only-of-type {\n",
       "        vertical-align: middle;\n",
       "    }\n",
       "\n",
       "    .dataframe tbody tr th {\n",
       "        vertical-align: top;\n",
       "    }\n",
       "\n",
       "    .dataframe thead th {\n",
       "        text-align: right;\n",
       "    }\n",
       "</style>\n",
       "<table border=\"1\" class=\"dataframe\">\n",
       "  <thead>\n",
       "    <tr style=\"text-align: right;\">\n",
       "      <th></th>\n",
       "      <th>ID</th>\n",
       "      <th>Tweet Content</th>\n",
       "      <th>Mentions Sports Betting</th>\n",
       "    </tr>\n",
       "  </thead>\n",
       "  <tbody>\n",
       "    <tr>\n",
       "      <th>0</th>\n",
       "      <td>1</td>\n",
       "      <td>\"𝐈𝐭. 𝐂𝐚𝐧𝐧𝐨𝐭. 𝐆𝐞𝐭. 𝐁𝐢𝐠𝐠𝐞𝐫. 𝐓𝐡𝐚𝐧. 𝐓𝐡𝐢𝐬. 🔥\\r\\n\\r\\...</td>\n",
       "      <td>no</td>\n",
       "    </tr>\n",
       "    <tr>\n",
       "      <th>1</th>\n",
       "      <td>2</td>\n",
       "      <td>\"It’ll be a tough night for Europe today.\\r\\n\\...</td>\n",
       "      <td>no</td>\n",
       "    </tr>\n",
       "    <tr>\n",
       "      <th>2</th>\n",
       "      <td>3</td>\n",
       "      <td>\"In defeat or in victory, always say Alhamduli...</td>\n",
       "      <td>no</td>\n",
       "    </tr>\n",
       "    <tr>\n",
       "      <th>3</th>\n",
       "      <td>4</td>\n",
       "      <td>\"FAFC Genesis Edition ( This collection have m...</td>\n",
       "      <td>no</td>\n",
       "    </tr>\n",
       "    <tr>\n",
       "      <th>4</th>\n",
       "      <td>5</td>\n",
       "      <td>\"Get ready for zabardast action on #25th Jan ....</td>\n",
       "      <td>no</td>\n",
       "    </tr>\n",
       "    <tr>\n",
       "      <th>...</th>\n",
       "      <td>...</td>\n",
       "      <td>...</td>\n",
       "      <td>...</td>\n",
       "    </tr>\n",
       "    <tr>\n",
       "      <th>4995</th>\n",
       "      <td>4996</td>\n",
       "      <td>\"If you wave Palestinian flags at the #FIFAWor...</td>\n",
       "      <td>no</td>\n",
       "    </tr>\n",
       "    <tr>\n",
       "      <th>4996</th>\n",
       "      <td>4997</td>\n",
       "      <td>\"FAFC Genesis Edition ( This collection have m...</td>\n",
       "      <td>no</td>\n",
       "    </tr>\n",
       "    <tr>\n",
       "      <th>4997</th>\n",
       "      <td>4998</td>\n",
       "      <td>\"@betcoza D is the Goal\\r\\n#BetcozaSpotTheGoal...</td>\n",
       "      <td>yes</td>\n",
       "    </tr>\n",
       "    <tr>\n",
       "      <th>4998</th>\n",
       "      <td>4999</td>\n",
       "      <td>\"France won the match against Morocco at #FIFA...</td>\n",
       "      <td>no</td>\n",
       "    </tr>\n",
       "    <tr>\n",
       "      <th>4999</th>\n",
       "      <td>5000</td>\n",
       "      <td>\"Watch|| Israeli occupation forces invaded on ...</td>\n",
       "      <td>no</td>\n",
       "    </tr>\n",
       "  </tbody>\n",
       "</table>\n",
       "<p>5000 rows × 3 columns</p>\n",
       "</div>"
      ],
      "text/plain": [
       "        ID                                      Tweet Content  \\\n",
       "0        1  \"𝐈𝐭. 𝐂𝐚𝐧𝐧𝐨𝐭. 𝐆𝐞𝐭. 𝐁𝐢𝐠𝐠𝐞𝐫. 𝐓𝐡𝐚𝐧. 𝐓𝐡𝐢𝐬. 🔥\\r\\n\\r\\...   \n",
       "1        2  \"It’ll be a tough night for Europe today.\\r\\n\\...   \n",
       "2        3  \"In defeat or in victory, always say Alhamduli...   \n",
       "3        4  \"FAFC Genesis Edition ( This collection have m...   \n",
       "4        5  \"Get ready for zabardast action on #25th Jan ....   \n",
       "...    ...                                                ...   \n",
       "4995  4996  \"If you wave Palestinian flags at the #FIFAWor...   \n",
       "4996  4997  \"FAFC Genesis Edition ( This collection have m...   \n",
       "4997  4998  \"@betcoza D is the Goal\\r\\n#BetcozaSpotTheGoal...   \n",
       "4998  4999  \"France won the match against Morocco at #FIFA...   \n",
       "4999  5000  \"Watch|| Israeli occupation forces invaded on ...   \n",
       "\n",
       "     Mentions Sports Betting  \n",
       "0                         no  \n",
       "1                         no  \n",
       "2                         no  \n",
       "3                         no  \n",
       "4                         no  \n",
       "...                      ...  \n",
       "4995                      no  \n",
       "4996                      no  \n",
       "4997                     yes  \n",
       "4998                      no  \n",
       "4999                      no  \n",
       "\n",
       "[5000 rows x 3 columns]"
      ]
     },
     "execution_count": 112,
     "metadata": {},
     "output_type": "execute_result"
    }
   ],
   "source": [
    "df"
   ]
  },
  {
   "cell_type": "markdown",
   "metadata": {},
   "source": [
    "#### Llama3 Informado"
   ]
  },
  {
   "cell_type": "code",
   "execution_count": 87,
   "metadata": {},
   "outputs": [],
   "source": [
    "folder = 'raw_answers/'\n",
    "file = 'llama3/classificacoes_informadas_llama3.txt'\n",
    "\n",
    "# Read every line and store in a list\n",
    "with open(folder + file, 'r') as f:\n",
    "    lines = f.readlines()\n",
    "\n",
    "# Store in dataframe with id 1 to 5000\n",
    "df = pd.DataFrame({'ID': range(1, 5001), 'classificacao': lines})\n",
    "\n",
    "# Convert all to lower\n",
    "df['classificacao'] = df['classificacao'].apply(lambda x: x.lower())\n",
    "\n",
    "# If it has a yes in the string, it is a 1, otherwise 0\n",
    "df['classificacao'] = df['classificacao'].apply(lambda x: 1 if 'yes' in x else 0)\n",
    "\n",
    "df = df.rename(columns={'classificacao': 'llama_informado'})\n",
    "\n",
    "df.to_csv('clean_answers/llama/classificacoes_informadas_llama3.csv', index=False)\n"
   ]
  },
  {
   "cell_type": "markdown",
   "metadata": {},
   "source": [
    "#### Llama3 Não-Informado"
   ]
  },
  {
   "cell_type": "code",
   "execution_count": 88,
   "metadata": {},
   "outputs": [],
   "source": [
    "folder = 'raw_answers/'\n",
    "file = 'llama3/classificacoes_nao_informadas_llama3.txt'\n",
    "\n",
    "# Read every line and store in a list\n",
    "with open(folder + file, 'r') as f:\n",
    "    lines = f.readlines()\n",
    "\n",
    "# Store in dataframe with id 1 to 5000\n",
    "df = pd.DataFrame({'ID': range(1, 5001), 'classificacao': lines})\n",
    "\n",
    "# Convert all to lower\n",
    "df['classificacao'] = df['classificacao'].apply(lambda x: x.lower())\n",
    "\n",
    "# If it has a yes in the string, it is a 1, otherwise 0\n",
    "df['classificacao'] = df['classificacao'].apply(lambda x: 1 if 'yes' in x else 0)\n",
    "\n",
    "df = df.rename(columns={'classificacao': 'llama_nao_informado'})\n",
    "\n",
    "df.to_csv('clean_answers/llama/classificacoes_nao_informadas_llama3.csv', index=False)\n"
   ]
  },
  {
   "cell_type": "markdown",
   "metadata": {},
   "source": [
    "# Join Answers"
   ]
  },
  {
   "cell_type": "markdown",
   "metadata": {},
   "source": [
    "#### Gpt Informado"
   ]
  },
  {
   "cell_type": "code",
   "execution_count": 93,
   "metadata": {},
   "outputs": [],
   "source": [
    "def read_csv_files(csv_files):\n",
    "    dfs = [pd.read_csv('clean_answers/'+ file) for file in csv_files]\n",
    "    combined_df = pd.concat(dfs, axis=1, join='inner')\n",
    "    return combined_df.drop('ID', axis=1)\n",
    "\n",
    "# Lista de arquivos CSV\n",
    "folder = 'clean_answers/'\n",
    "csv_files = ['gpt/gpt_informado.csv', \n",
    "             #'gpt/gpt_nao_informado.csv', \n",
    "              'llama/classificacoes_informadas_llama3.csv', 'llama/classificacoes_nao_informadas_llama3.csv']\n",
    "\n",
    "final_df = read_csv_files(csv_files)"
   ]
  },
  {
   "cell_type": "markdown",
   "metadata": {},
   "source": [
    "# Get stats from final vote"
   ]
  },
  {
   "cell_type": "code",
   "execution_count": 104,
   "metadata": {},
   "outputs": [
    {
     "data": {
      "text/html": [
       "<div>\n",
       "<style scoped>\n",
       "    .dataframe tbody tr th:only-of-type {\n",
       "        vertical-align: middle;\n",
       "    }\n",
       "\n",
       "    .dataframe tbody tr th {\n",
       "        vertical-align: top;\n",
       "    }\n",
       "\n",
       "    .dataframe thead th {\n",
       "        text-align: right;\n",
       "    }\n",
       "</style>\n",
       "<table border=\"1\" class=\"dataframe\">\n",
       "  <thead>\n",
       "    <tr style=\"text-align: right;\">\n",
       "      <th></th>\n",
       "      <th>final_vote</th>\n",
       "    </tr>\n",
       "  </thead>\n",
       "  <tbody>\n",
       "    <tr>\n",
       "      <th>1501</th>\n",
       "      <td>1.0</td>\n",
       "    </tr>\n",
       "    <tr>\n",
       "      <th>2586</th>\n",
       "      <td>1.0</td>\n",
       "    </tr>\n",
       "    <tr>\n",
       "      <th>2653</th>\n",
       "      <td>1.0</td>\n",
       "    </tr>\n",
       "    <tr>\n",
       "      <th>1055</th>\n",
       "      <td>1.0</td>\n",
       "    </tr>\n",
       "    <tr>\n",
       "      <th>705</th>\n",
       "      <td>1.0</td>\n",
       "    </tr>\n",
       "    <tr>\n",
       "      <th>...</th>\n",
       "      <td>...</td>\n",
       "    </tr>\n",
       "    <tr>\n",
       "      <th>4740</th>\n",
       "      <td>0.0</td>\n",
       "    </tr>\n",
       "    <tr>\n",
       "      <th>2940</th>\n",
       "      <td>1.0</td>\n",
       "    </tr>\n",
       "    <tr>\n",
       "      <th>3456</th>\n",
       "      <td>1.0</td>\n",
       "    </tr>\n",
       "    <tr>\n",
       "      <th>373</th>\n",
       "      <td>1.0</td>\n",
       "    </tr>\n",
       "    <tr>\n",
       "      <th>79</th>\n",
       "      <td>1.0</td>\n",
       "    </tr>\n",
       "  </tbody>\n",
       "</table>\n",
       "<p>100 rows × 1 columns</p>\n",
       "</div>"
      ],
      "text/plain": [
       "      final_vote\n",
       "1501         1.0\n",
       "2586         1.0\n",
       "2653         1.0\n",
       "1055         1.0\n",
       "705          1.0\n",
       "...          ...\n",
       "4740         0.0\n",
       "2940         1.0\n",
       "3456         1.0\n",
       "373          1.0\n",
       "79           1.0\n",
       "\n",
       "[100 rows x 1 columns]"
      ]
     },
     "execution_count": 104,
     "metadata": {},
     "output_type": "execute_result"
    }
   ],
   "source": [
    "sample"
   ]
  },
  {
   "cell_type": "code",
   "execution_count": 96,
   "metadata": {},
   "outputs": [],
   "source": [
    "sample = pd.read_csv('final_classified_tweets.csv').sample(100, random_state=42)"
   ]
  },
  {
   "cell_type": "code",
   "execution_count": 97,
   "metadata": {},
   "outputs": [],
   "source": [
    "tweets = pd.read_csv('tweets_filtered.csv')"
   ]
  },
  {
   "cell_type": "code",
   "execution_count": 98,
   "metadata": {},
   "outputs": [],
   "source": [
    "tweets_samples = tweets.loc[sample.index]\n",
    "tweets_samples.to_csv('tweets_samples.csv', index=False)"
   ]
  },
  {
   "cell_type": "code",
   "execution_count": 99,
   "metadata": {},
   "outputs": [],
   "source": [
    "human_sample = pd.read_csv('human_classified.csv')"
   ]
  },
  {
   "cell_type": "code",
   "execution_count": 102,
   "metadata": {},
   "outputs": [],
   "source": [
    "human_sample.index = human_sample['ID'] - 1"
   ]
  },
  {
   "cell_type": "code",
   "execution_count": 60,
   "metadata": {},
   "outputs": [
    {
     "name": "stdout",
     "output_type": "stream",
     "text": [
      "Precision: 0.0625\n",
      "Recall: 1.0\n",
      "F1-Score: 0.11764705882352941\n"
     ]
    }
   ],
   "source": [
    "# Comparate human sample with final classified tweets\n",
    "human_sample = pd.concat([human_sample, sample], axis=1)\n",
    "\n",
    "# Get precision, recall and f1-score\n",
    "TP = human_sample[(human_sample['Tweet Content'] == 1) & (human_sample['final_vote'] == 1)].shape[0]\n",
    "FP = human_sample[(human_sample['Tweet Content'] == 0) & (human_sample['final_vote'] == 1)].shape[0]\n",
    "FN = human_sample[(human_sample['Tweet Content'] == 1) & (human_sample['final_vote'] == 0)].shape[0]\n",
    "TN = human_sample[(human_sample['Tweet Content'] == 0) & (human_sample['final_vote'] == 0)].shape[0]\n",
    "\n",
    "precision = TP / (TP + FP)\n",
    "recall = TP / (TP + FN)\n",
    "f1_score = 2 * (precision * recall) / (precision + recall)\n",
    "\n",
    "print(f'Precision: {precision}')\n",
    "print(f'Recall: {recall}')\n",
    "print(f'F1-Score: {f1_score}')"
   ]
  },
  {
   "cell_type": "code",
   "execution_count": 52,
   "metadata": {},
   "outputs": [
    {
     "data": {
      "text/html": [
       "<div>\n",
       "<style scoped>\n",
       "    .dataframe tbody tr th:only-of-type {\n",
       "        vertical-align: middle;\n",
       "    }\n",
       "\n",
       "    .dataframe tbody tr th {\n",
       "        vertical-align: top;\n",
       "    }\n",
       "\n",
       "    .dataframe thead th {\n",
       "        text-align: right;\n",
       "    }\n",
       "</style>\n",
       "<table border=\"1\" class=\"dataframe\">\n",
       "  <thead>\n",
       "    <tr style=\"text-align: right;\">\n",
       "      <th></th>\n",
       "      <th>ID</th>\n",
       "      <th>Tweet Content</th>\n",
       "      <th>final_vote</th>\n",
       "    </tr>\n",
       "  </thead>\n",
       "  <tbody>\n",
       "    <tr>\n",
       "      <th>1501</th>\n",
       "      <td>1502</td>\n",
       "      <td>0</td>\n",
       "      <td>1.0</td>\n",
       "    </tr>\n",
       "    <tr>\n",
       "      <th>2586</th>\n",
       "      <td>2587</td>\n",
       "      <td>0</td>\n",
       "      <td>1.0</td>\n",
       "    </tr>\n",
       "    <tr>\n",
       "      <th>2653</th>\n",
       "      <td>2654</td>\n",
       "      <td>0</td>\n",
       "      <td>1.0</td>\n",
       "    </tr>\n",
       "    <tr>\n",
       "      <th>1055</th>\n",
       "      <td>1056</td>\n",
       "      <td>0</td>\n",
       "      <td>1.0</td>\n",
       "    </tr>\n",
       "    <tr>\n",
       "      <th>705</th>\n",
       "      <td>706</td>\n",
       "      <td>0</td>\n",
       "      <td>1.0</td>\n",
       "    </tr>\n",
       "    <tr>\n",
       "      <th>...</th>\n",
       "      <td>...</td>\n",
       "      <td>...</td>\n",
       "      <td>...</td>\n",
       "    </tr>\n",
       "    <tr>\n",
       "      <th>4740</th>\n",
       "      <td>4741</td>\n",
       "      <td>0</td>\n",
       "      <td>0.0</td>\n",
       "    </tr>\n",
       "    <tr>\n",
       "      <th>2940</th>\n",
       "      <td>2941</td>\n",
       "      <td>0</td>\n",
       "      <td>1.0</td>\n",
       "    </tr>\n",
       "    <tr>\n",
       "      <th>3456</th>\n",
       "      <td>3457</td>\n",
       "      <td>0</td>\n",
       "      <td>1.0</td>\n",
       "    </tr>\n",
       "    <tr>\n",
       "      <th>373</th>\n",
       "      <td>374</td>\n",
       "      <td>0</td>\n",
       "      <td>1.0</td>\n",
       "    </tr>\n",
       "    <tr>\n",
       "      <th>79</th>\n",
       "      <td>80</td>\n",
       "      <td>0</td>\n",
       "      <td>1.0</td>\n",
       "    </tr>\n",
       "  </tbody>\n",
       "</table>\n",
       "<p>100 rows × 3 columns</p>\n",
       "</div>"
      ],
      "text/plain": [
       "        ID  Tweet Content  final_vote\n",
       "1501  1502              0         1.0\n",
       "2586  2587              0         1.0\n",
       "2653  2654              0         1.0\n",
       "1055  1056              0         1.0\n",
       "705    706              0         1.0\n",
       "...    ...            ...         ...\n",
       "4740  4741              0         0.0\n",
       "2940  2941              0         1.0\n",
       "3456  3457              0         1.0\n",
       "373    374              0         1.0\n",
       "79      80              0         1.0\n",
       "\n",
       "[100 rows x 3 columns]"
      ]
     },
     "execution_count": 52,
     "metadata": {},
     "output_type": "execute_result"
    }
   ],
   "source": [
    "human_sample"
   ]
  }
 ],
 "metadata": {
  "kernelspec": {
   "display_name": "Python 3",
   "language": "python",
   "name": "python3"
  },
  "language_info": {
   "codemirror_mode": {
    "name": "ipython",
    "version": 3
   },
   "file_extension": ".py",
   "mimetype": "text/x-python",
   "name": "python",
   "nbconvert_exporter": "python",
   "pygments_lexer": "ipython3",
   "version": "3.12.1"
  }
 },
 "nbformat": 4,
 "nbformat_minor": 2
}
