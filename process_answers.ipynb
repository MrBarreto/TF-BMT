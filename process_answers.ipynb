{
 "cells": [
  {
   "cell_type": "code",
   "execution_count": 1,
   "metadata": {},
   "outputs": [],
   "source": [
    "import pandas as pd\n",
    "from scipy.stats import mode"
   ]
  },
  {
   "cell_type": "markdown",
   "metadata": {},
   "source": [
    "# Clean Answer"
   ]
  },
  {
   "cell_type": "code",
   "execution_count": 2,
   "metadata": {},
   "outputs": [],
   "source": [
    "# Load the data\n",
    "data = pd.read_csv('tweets/tweets_filtered.csv')\n",
    "data = data.iloc[0:5000, :]\n",
    "data.to_csv('tweets/tweets_filtered_top_5000.csv', index=False)"
   ]
  },
  {
   "cell_type": "markdown",
   "metadata": {},
   "source": [
    "#### Gpt Informado"
   ]
  },
  {
   "cell_type": "code",
   "execution_count": 3,
   "metadata": {},
   "outputs": [],
   "source": [
    "folder = 'raw_answers/'\n",
    "file = 'gpt/gpt_informado.csv'\n",
    "\n",
    "df = pd.read_csv(folder + file)\n",
    "\n",
    "# Get only int ids\n",
    "df = df[df['ID'].apply(lambda x: x.isnumeric())]\n",
    "\n",
    "# Get first answer from each ID\n",
    "df = df.groupby('ID').first().reset_index()\n",
    "\n",
    "\n",
    "df['ID'] = df['ID'].astype(int)\n",
    "\n",
    "df = df.sort_values('ID').reset_index(drop=True)\n",
    "\n",
    "df['Sports Betting'] = df['Sports Betting'].apply(lambda x: 1 if 'yes' in x else 0)\n",
    "\n",
    "df = df.rename(columns={'Sports Betting': 'gpt_informado'})\n",
    "\n",
    "df.to_csv('clean_answers/gpt/gpt_informado.csv', index=False)"
   ]
  },
  {
   "cell_type": "markdown",
   "metadata": {},
   "source": [
    "#### Gpt Não-Informado"
   ]
  },
  {
   "cell_type": "code",
   "execution_count": 4,
   "metadata": {},
   "outputs": [],
   "source": [
    "folder = 'raw_answers/'\n",
    "file = 'gpt/gpt_nao_informado.csv'\n",
    "\n",
    "df = pd.read_csv(folder + file)\n",
    "\n",
    "df['ID'] = df['ID'].astype(str)\n",
    "\n",
    "# Get only int ids\n",
    "df = df[df['ID'].apply(lambda x: x.isnumeric())]\n",
    "\n",
    "df['Mentions Sports Betting'] = df['Mentions Sports Betting'].apply(lambda x: 1 if 'yes' in x else 0)\n",
    "\n",
    "df = df.rename(columns={'Mentions Sports Betting': 'gpt_nao_informado'})\n",
    "\n",
    "df = df.drop(\"Tweet Content\", axis=1)\n",
    "\n",
    "df.to_csv('clean_answers/gpt/gpt_nao_informado.csv', index=False)\n"
   ]
  },
  {
   "cell_type": "markdown",
   "metadata": {},
   "source": [
    "#### Llama 2 Informado"
   ]
  },
  {
   "cell_type": "code",
   "execution_count": 5,
   "metadata": {},
   "outputs": [],
   "source": [
    "folder = 'raw_answers/'\n",
    "file = 'llama/classificacoes_informadas_llama3.txt'\n",
    "\n",
    "# Read every line and store in a list\n",
    "with open(folder + file, 'r') as f:\n",
    "    lines = f.readlines()\n",
    "\n",
    "# Store in dataframe with id 1 to 5000\n",
    "df = pd.DataFrame({'ID': range(1, 5001), 'classificacao': lines})\n",
    "\n",
    "# Convert all to lower\n",
    "df['classificacao'] = df['classificacao'].apply(lambda x: x.lower())\n",
    "\n",
    "# If it has a yes in the string, it is a 1, otherwise 0\n",
    "df['classificacao'] = df['classificacao'].apply(lambda x: 1 if 'yes' in x else 0)\n",
    "\n",
    "df = df.rename(columns={'classificacao': 'llama_informado'})\n",
    "\n",
    "df.to_csv('clean_answers/llama/classificacoes_informadas_llama3.csv', index=False)\n"
   ]
  },
  {
   "cell_type": "markdown",
   "metadata": {},
   "source": [
    "#### Llama 2 Não-Informado"
   ]
  },
  {
   "cell_type": "code",
   "execution_count": 6,
   "metadata": {},
   "outputs": [],
   "source": [
    "folder = 'raw_answers/'\n",
    "file = 'llama2/classificacoes_informadas.txt'\n",
    "\n",
    "# Read every line and store in a list\n",
    "with open(folder + file, 'r') as f:\n",
    "    lines = f.readlines()\n",
    "\n",
    "# Store in dataframe with id 1 to 5000\n",
    "df = pd.DataFrame({'ID': range(1, 5001), 'classificacao': lines})\n",
    "\n",
    "# Convert all to lower\n",
    "df['classificacao'] = df['classificacao'].apply(lambda x: x.lower())\n",
    "\n",
    "# If it has a yes in the string, it is a 1, otherwise 0\n",
    "df['classificacao'] = df['classificacao'].apply(lambda x: 1 if 'yes' in x else 0)\n",
    "\n",
    "df = df.rename(columns={'classificacao': 'llama_nao_informado'})\n",
    "\n",
    "df.to_csv('clean_answers/llama/classificacoes_nao_informadas_llama3.csv', index=False)\n"
   ]
  },
  {
   "cell_type": "markdown",
   "metadata": {},
   "source": [
    "# Join Answers"
   ]
  },
  {
   "cell_type": "code",
   "execution_count": 7,
   "metadata": {},
   "outputs": [],
   "source": [
    "def read_csv_files(csv_files):\n",
    "    dfs = [pd.read_csv('clean_answers/'+ file) for file in csv_files]\n",
    "    combined_df = pd.concat(dfs, axis=1, join='inner')\n",
    "    return combined_df.drop('ID', axis=1)\n",
    "\n",
    "# Lista de arquivos CSV\n",
    "folder = 'clean_answers/'\n",
    "csv_files = ['gpt/gpt_informado.csv', 'gpt/gpt_nao_informado.csv', 'llama/classificacoes_informadas_llama3.csv', 'llama/classificacoes_nao_informadas_llama3.csv']\n",
    "\n",
    "final_df = read_csv_files(csv_files)"
   ]
  },
  {
   "cell_type": "markdown",
   "metadata": {},
   "source": [
    "# Get stats from each model"
   ]
  },
  {
   "cell_type": "code",
   "execution_count": 8,
   "metadata": {},
   "outputs": [],
   "source": [
    "sample = pd.read_csv('tweets/base_to_be_sampled.csv').sample(100, random_state=42)"
   ]
  },
  {
   "cell_type": "code",
   "execution_count": 9,
   "metadata": {},
   "outputs": [],
   "source": [
    "tweets = pd.read_csv('tweets/tweets_filtered.csv')"
   ]
  },
  {
   "cell_type": "code",
   "execution_count": 10,
   "metadata": {},
   "outputs": [],
   "source": [
    "tweets_samples = tweets.loc[sample.index]\n",
    "tweets_samples.to_csv('tweets/tweets_samples.csv', index=False)"
   ]
  },
  {
   "cell_type": "code",
   "execution_count": 11,
   "metadata": {},
   "outputs": [],
   "source": [
    "human_sample = pd.read_csv('tweets/human_classified_tweets.csv')"
   ]
  },
  {
   "cell_type": "code",
   "execution_count": 12,
   "metadata": {},
   "outputs": [],
   "source": [
    "human_sample.index = human_sample['ID'] - 1"
   ]
  },
  {
   "cell_type": "code",
   "execution_count": 13,
   "metadata": {},
   "outputs": [],
   "source": [
    "final_df = pd.concat([final_df, human_sample.drop('ID', axis=1)], axis=1)\n",
    "final_df = final_df.dropna()\n",
    "final_df = final_df.rename(columns={'Tweet Content': 'human'})"
   ]
  },
  {
   "cell_type": "code",
   "execution_count": 14,
   "metadata": {},
   "outputs": [],
   "source": [
    "def evaluate_column_vs_human(final_df, column_to_compare, human_column='human'):\n",
    "    \"\"\"\n",
    "    Compares a specified column with the human-evaluated column and calculates precision, recall, and F1-score.\n",
    "    \"\"\"\n",
    "    TP = final_df[(final_df[column_to_compare] == 1) & (final_df[human_column] == 1)].shape[0]\n",
    "    FP = final_df[(final_df[column_to_compare] == 0) & (final_df[human_column] == 1)].shape[0]\n",
    "    FN = final_df[(final_df[column_to_compare] == 1) & (final_df[human_column] == 0)].shape[0]\n",
    "    TN = final_df[(final_df[column_to_compare] == 0) & (final_df[human_column] == 0)].shape[0]\n",
    "\n",
    "    precision = TP / (TP + FP) if (TP + FP) != 0 else 0\n",
    "    recall = TP / (TP + FN) if (TP + FN) != 0 else 0\n",
    "    f1_score = 2 * (precision * recall) / (precision + recall) if (precision + recall) != 0 else 0\n",
    "\n",
    "    return {\n",
    "        'Precision': precision,\n",
    "        'Recall': recall,\n",
    "        'F1-Score': f1_score\n",
    "    }\n",
    "\n"
   ]
  },
  {
   "cell_type": "markdown",
   "metadata": {},
   "source": [
    "#### Gpt Informado"
   ]
  },
  {
   "cell_type": "code",
   "execution_count": 15,
   "metadata": {},
   "outputs": [
    {
     "name": "stdout",
     "output_type": "stream",
     "text": [
      "{'Precision': 0.16666666666666666, 'Recall': 0.25, 'F1-Score': 0.2}\n"
     ]
    }
   ],
   "source": [
    "results = evaluate_column_vs_human(final_df, column_to_compare='gpt_informado')\n",
    "print(results)\n"
   ]
  },
  {
   "cell_type": "markdown",
   "metadata": {},
   "source": [
    "#### Gpt Não-Informado"
   ]
  },
  {
   "cell_type": "code",
   "execution_count": 16,
   "metadata": {},
   "outputs": [
    {
     "name": "stdout",
     "output_type": "stream",
     "text": [
      "{'Precision': 0.3333333333333333, 'Recall': 0.3333333333333333, 'F1-Score': 0.3333333333333333}\n"
     ]
    }
   ],
   "source": [
    "results = evaluate_column_vs_human(final_df, column_to_compare='gpt_nao_informado')\n",
    "print(results)\n"
   ]
  },
  {
   "cell_type": "markdown",
   "metadata": {},
   "source": [
    "#### Llama Informado"
   ]
  },
  {
   "cell_type": "code",
   "execution_count": 17,
   "metadata": {},
   "outputs": [
    {
     "name": "stdout",
     "output_type": "stream",
     "text": [
      "{'Precision': 0.6666666666666666, 'Recall': 0.08333333333333333, 'F1-Score': 0.14814814814814814}\n"
     ]
    }
   ],
   "source": [
    "results = evaluate_column_vs_human(final_df, column_to_compare='llama_informado')\n",
    "print(results)\n"
   ]
  },
  {
   "cell_type": "markdown",
   "metadata": {},
   "source": [
    "#### Llama Não-Informado"
   ]
  },
  {
   "cell_type": "code",
   "execution_count": 18,
   "metadata": {},
   "outputs": [
    {
     "name": "stdout",
     "output_type": "stream",
     "text": [
      "{'Precision': 0.16666666666666666, 'Recall': 0.06666666666666667, 'F1-Score': 0.09523809523809522}\n"
     ]
    }
   ],
   "source": [
    "results = evaluate_column_vs_human(final_df, column_to_compare='llama_nao_informado')\n",
    "print(results)\n"
   ]
  }
 ],
 "metadata": {
  "kernelspec": {
   "display_name": "Python 3",
   "language": "python",
   "name": "python3"
  },
  "language_info": {
   "codemirror_mode": {
    "name": "ipython",
    "version": 3
   },
   "file_extension": ".py",
   "mimetype": "text/x-python",
   "name": "python",
   "nbconvert_exporter": "python",
   "pygments_lexer": "ipython3",
   "version": "3.12.1"
  }
 },
 "nbformat": 4,
 "nbformat_minor": 2
}
